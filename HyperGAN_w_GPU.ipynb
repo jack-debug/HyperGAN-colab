{
  "nbformat": 4,
  "nbformat_minor": 0,
  "metadata": {
    "colab": {
      "name": "HyperGAN_w_GPU.ipynb",
      "provenance": [],
      "collapsed_sections": [],
      "toc_visible": true,
      "include_colab_link": true
    },
    "kernelspec": {
      "name": "python3",
      "display_name": "Python 3"
    },
    "accelerator": "GPU"
  },
  "cells": [
    {
      "cell_type": "markdown",
      "metadata": {
        "id": "view-in-github",
        "colab_type": "text"
      },
      "source": [
        "<a href=\"https://colab.research.google.com/github/jack-debug/HyperGAN-colab/blob/main/HyperGAN_w_GPU.ipynb\" target=\"_parent\"><img src=\"https://colab.research.google.com/assets/colab-badge.svg\" alt=\"Open In Colab\"/></a>"
      ]
    },
    {
      "cell_type": "markdown",
      "metadata": {
        "id": "FiB66NljNUQv"
      },
      "source": [
        "# **HyperGAN w/ GPU**"
      ]
    },
    {
      "cell_type": "markdown",
      "metadata": {
        "id": "mWlsAdAyNfvP"
      },
      "source": [
        "First, lets set up HyperGAN"
      ]
    },
    {
      "cell_type": "code",
      "metadata": {
        "id": "44GphrTgEVxl"
      },
      "source": [
        "!git clone https://github.com/HyperGAN/HyperGAN.git/\n",
        "%cd HyperGAN\n",
        "!mkdir images\n",
        "!python3 setup.py develop\n",
        "!pip install -r requirements.txt"
      ],
      "execution_count": null,
      "outputs": []
    },
    {
      "cell_type": "markdown",
      "metadata": {
        "id": "MucH_1pKNhrd"
      },
      "source": [
        "Next, let's create the default model."
      ]
    },
    {
      "cell_type": "code",
      "metadata": {
        "id": "xJzbMGsFEzUG",
        "outputId": "e8d330e1-3671-4266-b46c-7fd6cc035d0f",
        "colab": {
          "base_uri": "https://localhost:8080/"
        }
      },
      "source": [
        "!hypergan new mymodel"
      ],
      "execution_count": 2,
      "outputs": [
        {
          "output_type": "stream",
          "text": [
            "[hypergan] Creating new configuration file 'mymodel.json' based off of 'default.json\n",
            "Loading configuration /content/HyperGAN/hypergan/configurations/default.json\n"
          ],
          "name": "stdout"
        }
      ]
    },
    {
      "cell_type": "markdown",
      "metadata": {
        "id": "WM2ny3lNPcmf"
      },
      "source": [
        "Now, let's mount at Google Drive to import images."
      ]
    },
    {
      "cell_type": "code",
      "metadata": {
        "id": "HYbHuIQRPcSy"
      },
      "source": [
        "from google.colab import drive\n",
        "drive.mount(\"/content/drive\")"
      ],
      "execution_count": null,
      "outputs": []
    },
    {
      "cell_type": "markdown",
      "metadata": {
        "id": "5oPpyfetNmwX"
      },
      "source": [
        "Now, let's train HyperGAN withour own images. In the HyperGAN folder called images, put your images there. Start training and wait a while."
      ]
    },
    {
      "cell_type": "code",
      "metadata": {
        "id": "ElJg2N1Ai9tn"
      },
      "source": [
        "%cd images/\r\n",
        "!unzip dank.zip\r\n",
        "!rm dank.zip\r\n",
        "%cd .."
      ],
      "execution_count": null,
      "outputs": []
    },
    {
      "cell_type": "code",
      "metadata": {
        "id": "tvJDuENpFBJ1"
      },
      "source": [
        "!hypergan train images/ -s 130x130x3 -c mymodel --resize --sample_every 5 --save_every 200 --loss_every 100 -w 10"
      ],
      "execution_count": null,
      "outputs": []
    },
    {
      "cell_type": "markdown",
      "metadata": {
        "id": "HBzT-NIgN3Nj"
      },
      "source": [
        "Once trainings done, you can download all the sampled images"
      ]
    },
    {
      "cell_type": "code",
      "metadata": {
        "id": "wzMXWQwgNHUa"
      },
      "source": [
        "from google.colab import files\n",
        "\n",
        "!zip -r /content/sampled.zip /content/HyperGAN/samples/mymodel\n",
        "files.download(\"/content/sampled.zip\")"
      ],
      "execution_count": null,
      "outputs": []
    },
    {
      "cell_type": "code",
      "metadata": {
        "id": "pVzSxMQ0kN0u"
      },
      "source": [
        "!pip3 install opencv-python"
      ],
      "execution_count": null,
      "outputs": []
    },
    {
      "cell_type": "code",
      "metadata": {
        "id": "rm8AIGbip1-u",
        "outputId": "8a90da13-bbb7-46c3-8888-c51e8baaf891",
        "colab": {
          "base_uri": "https://localhost:8080/"
        }
      },
      "source": [
        "#convert to video\r\n",
        "import cv2\r\n",
        "import numpy as np\r\n",
        "import os\r\n",
        "from os.path import isfile, join\r\n",
        "pathIn= '/content/HyperGAN/samples/mymodel/'\r\n",
        "pathOut = 'train.avi'\r\n",
        "fps = 24\r\n",
        "frame_array = []\r\n",
        "files = [f for f in os.listdir(pathIn) if isfile(join(pathIn, f))]\r\n",
        "#for sorting the file names properly\r\n",
        "files.sort(key = lambda x: x[5:-4])\r\n",
        "files.sort()\r\n",
        "frame_array = []\r\n",
        "files = [f for f in os.listdir(pathIn) if isfile(join(pathIn, f))]\r\n",
        "#for sorting the file names properly\r\n",
        "files.sort(key = lambda x: x[5:-4])\r\n",
        "size = (180,180)\r\n",
        "for i in range(len(files)):\r\n",
        "    filename=pathIn + files[i]\r\n",
        "    #reading each files\r\n",
        "    img = cv2.imread(filename)\r\n",
        "    height, width, layers = img.shape\r\n",
        "    size = (180,180)\r\n",
        "    frame_array.append(img)\r\n",
        "out = cv2.VideoWriter(pathOut,cv2.VideoWriter_fourcc(*'DIVX'), fps, size)\r\n",
        "for i in range(len(frame_array)):\r\n",
        "    # writing to a image array\r\n",
        "    out.write(frame_array[i])\r\n",
        "out.release()\r\n",
        "!mv train.avi /content/HyperGAN/"
      ],
      "execution_count": 35,
      "outputs": [
        {
          "output_type": "stream",
          "text": [
            "mv: cannot stat 'train.mp4': No such file or directory\n"
          ],
          "name": "stdout"
        }
      ]
    }
  ]
}