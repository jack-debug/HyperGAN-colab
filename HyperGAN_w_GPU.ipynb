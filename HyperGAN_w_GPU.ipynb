{
  "nbformat": 4,
  "nbformat_minor": 0,
  "metadata": {
    "colab": {
      "name": "HyperGAN_w_GPU.ipynb",
      "provenance": [],
      "collapsed_sections": [],
      "toc_visible": true,
      "include_colab_link": true
    },
    "kernelspec": {
      "name": "python3",
      "display_name": "Python 3"
    },
    "accelerator": "GPU"
  },
  "cells": [
    {
      "cell_type": "markdown",
      "metadata": {
        "id": "view-in-github",
        "colab_type": "text"
      },
      "source": [
        "<a href=\"https://colab.research.google.com/github/jack-debug/HyperGAN-colab/blob/main/HyperGAN_w_GPU.ipynb\" target=\"_parent\"><img src=\"https://colab.research.google.com/assets/colab-badge.svg\" alt=\"Open In Colab\"/></a>"
      ]
    },
    {
      "cell_type": "markdown",
      "metadata": {
        "id": "FiB66NljNUQv"
      },
      "source": [
        "# **HyperGAN w/ GPU**"
      ]
    },
    {
      "cell_type": "markdown",
      "metadata": {
        "id": "mWlsAdAyNfvP"
      },
      "source": [
        "First, lets set up HyperGAN"
      ]
    },
    {
      "cell_type": "code",
      "metadata": {
        "id": "44GphrTgEVxl"
      },
      "source": [
        "!git clone https://github.com/HyperGAN/HyperGAN.git/\n",
        "%cd HyperGAN\n",
        "!mkdir images\n",
        "!python3 setup.py develop\n",
        "!pip install -r requirements.txt"
      ],
      "execution_count": null,
      "outputs": []
    },
    {
      "cell_type": "markdown",
      "metadata": {
        "id": "MucH_1pKNhrd"
      },
      "source": [
        "Next, let's create the default model."
      ]
    },
    {
      "cell_type": "code",
      "metadata": {
        "id": "xJzbMGsFEzUG"
      },
      "source": [
        "!hypergan new mymodel"
      ],
      "execution_count": null,
      "outputs": []
    },
    {
      "cell_type": "markdown",
      "metadata": {
        "id": "WM2ny3lNPcmf"
      },
      "source": [
        "Now, let's mount at Google Drive to import images."
      ]
    },
    {
      "cell_type": "code",
      "metadata": {
        "id": "HYbHuIQRPcSy"
      },
      "source": [
        "from google.colab import drive\n",
        "drive.mount(\"/content/drive\")"
      ],
      "execution_count": null,
      "outputs": []
    },
    {
      "cell_type": "markdown",
      "metadata": {
        "id": "5oPpyfetNmwX"
      },
      "source": [
        "Now, let's train HyperGAN withour own images. In the HyperGAN folder called images, put your images there. Start training and wait a while."
      ]
    },
    {
      "cell_type": "code",
      "metadata": {
        "id": "tvJDuENpFBJ1"
      },
      "source": [
        "!hypergan train images/ -s 100x80x3 -c mymodel --resize --sample_every 5 --save_every 200"
      ],
      "execution_count": null,
      "outputs": []
    },
    {
      "cell_type": "markdown",
      "metadata": {
        "id": "HBzT-NIgN3Nj"
      },
      "source": [
        "Once trainings done, you can download all the sampled images"
      ]
    },
    {
      "cell_type": "code",
      "metadata": {
        "id": "wzMXWQwgNHUa"
      },
      "source": [
        "from google.colab import files\n",
        "\n",
        "!zip -r /content/sampled.zip /content/HyperGAN/samples/mymodel\n",
        "files.download(\"/content/sampled.zip\")"
      ],
      "execution_count": null,
      "outputs": []
    }
  ]
}